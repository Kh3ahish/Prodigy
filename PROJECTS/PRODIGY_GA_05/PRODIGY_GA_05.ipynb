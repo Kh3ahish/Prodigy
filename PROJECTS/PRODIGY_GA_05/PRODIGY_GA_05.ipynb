{
 "cells": [
  {
   "cell_type": "markdown",
   "id": "feb8226c",
   "metadata": {},
   "source": [
    "# Image Style Transfer with TensorFlow Hub\n",
    "This notebook demonstrates how to perform image style transfer using a pretrained model from TensorFlow Hub.\n",
    "The model takes a content image and a style image as inputs to generate a stylized image."
   ]
  },
  {
   "cell_type": "code",
   "execution_count": null,
   "id": "56a526a3",
   "metadata": {},
   "outputs": [],
   "source": [
    "import tensorflow_hub as hub\n",
    "import tensorflow as tf\n",
    "from matplotlib import pyplot as plt\n",
    "import numpy as np\n",
    "import cv2\n",
    "import os\n",
    "\n",
    "# Load the pre-trained model from TensorFlow Hub\n",
    "model = hub.load('https://tfhub.dev/google/magenta/arbitrary-image-stylization-v1-256/2')"
   ]
  },
  {
   "cell_type": "markdown",
   "id": "66848110",
   "metadata": {},
   "source": [
    "## Preprocess Images\n",
    "Define a function to load and preprocess the input images (content and style)."
   ]
  },
  {
   "cell_type": "code",
   "execution_count": null,
   "id": "efa423f5",
   "metadata": {},
   "outputs": [],
   "source": [
    "def load_image(img_path):\n",
    "    img = tf.io.read_file(img_path)\n",
    "    img = tf.image.decode_image(img, channels=3)\n",
    "    img = tf.image.convert_image_dtype(img, tf.float32)\n",
    "    img = img[tf.newaxis, :]\n",
    "    return img\n",
    "\n",
    "# Provide paths to the content and style images\n",
    "content_image = load_image('/Screenshot 2023-11-12 164138.png')\n",
    "style_image = load_image('/Screenshot (9).png')"
   ]
  },
  {
   "cell_type": "markdown",
   "id": "40295222",
   "metadata": {},
   "source": [
    "## Visualize Input Images\n",
    "Display the content and style images using Matplotlib."
   ]
  },
  {
   "cell_type": "code",
   "execution_count": null,
   "id": "5d71e7f2",
   "metadata": {},
   "outputs": [],
   "source": [
    "plt.imshow(np.squeeze(content_image))\n",
    "plt.title('Content Image')\n",
    "plt.show()\n",
    "\n",
    "plt.imshow(np.squeeze(style_image))\n",
    "plt.title('Style Image')\n",
    "plt.show()"
   ]
  },
  {
   "cell_type": "markdown",
   "id": "c40c34a2",
   "metadata": {},
   "source": [
    "## Generate Stylized Image\n",
    "Use the TensorFlow Hub model to generate the stylized image."
   ]
  },
  {
   "cell_type": "code",
   "execution_count": null,
   "id": "c98084cf",
   "metadata": {},
   "outputs": [],
   "source": [
    "stylized_image = model(tf.constant(content_image), tf.constant(style_image))[0]\n",
    "\n",
    "plt.imshow(np.squeeze(stylized_image))\n",
    "plt.title('Stylized Image')\n",
    "plt.show()"
   ]
  },
  {
   "cell_type": "markdown",
   "id": "27b6e59e",
   "metadata": {},
   "source": [
    "Created with ❤️ by Khwahish Kushwah"
   ]
  }
 ],
 "metadata": {
  "language_info": {
   "name": "python"
  }
 },
 "nbformat": 4,
 "nbformat_minor": 5
}
