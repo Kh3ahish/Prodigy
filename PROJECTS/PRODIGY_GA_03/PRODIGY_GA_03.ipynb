{
 "cells": [
  {
   "cell_type": "markdown",
   "id": "d65900ac",
   "metadata": {},
   "source": [
    "Next, join the individual reviews into 1 large text string and build a Markov chain model using the airport review text"
   ]
  },
  {
   "cell_type": "markdown",
   "id": "d4989e73",
   "metadata": {},
   "source": [
    "Generate 5 sentences using the Markov chain model"
   ]
  },
  {
   "cell_type": "markdown",
   "id": "faf3860f",
   "metadata": {},
   "source": [
    "Generate 3 sentence with a large of no more than 140 characters"
   ]
  },
  {
   "cell_type": "markdown",
   "id": "edd30890",
   "metadata": {},
   "source": [
    "1. We import markovify library, a library for Markov Chain computations and reading in text which we will inform at our Markov Model"
   ]
  },
  {
   "cell_type": "markdown",
   "id": "efea65e4",
   "metadata": {},
   "source": []
  },
  {
   "cell_type": "code",
   "execution_count": null,
   "id": "1b806ed1",
   "metadata": {},
   "outputs": [],
   "source": [
    "import markovify\n",
    "import pandas as pd\n",
    "df = pd.read_csv('/content/airport_reviews.csv.zip')\n",
    "\n",
    "\n",
    "from itertools import chain\n",
    "N=100\n",
    "review_subset = df[\"content\"][0:N]\n",
    "text = \"\".join(chain.from_iterable(review_subset))\n",
    "markov_Chain_model = markovify.Text(text)\n",
    "\n",
    "\n",
    "for i in range (5):\n",
    "  print(markov_Chain_model.make_sentence())\n",
    "\n",
    "\n",
    "for i in range (3):\n",
    "  print(markov_Chain_model.make_short_sentence(140))\n",
    "\n",
    "\n",
    "2. We create a Markov Chain Model using the text\n",
    "\n",
    "3. We generate a few sentences\n",
    "\n",
    "4. we create a few tweets in the style of the airport reviews using our Markov Chain"
   ]
  },
  {
   "cell_type": "markdown",
   "id": "49d35fa4",
   "metadata": {},
   "source": [
    "Created with ❤️ by Khwahish Kushwah"
   ]
  }
 ],
 "metadata": {
  "language_info": {
   "name": "python"
  }
 },
 "nbformat": 4,
 "nbformat_minor": 5
}
