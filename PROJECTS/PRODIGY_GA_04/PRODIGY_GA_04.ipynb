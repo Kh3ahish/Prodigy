{
 "cells": [
  {
   "cell_type": "code",
   "execution_count": null,
   "id": "6ef0ad23",
   "metadata": {},
   "outputs": [],
   "source": [
    "import tensorflow as tf\n",
    "from tensorflow import keras\n",
    "from tensorflow.keras import layers\n",
    "import numpy as np\n",
    "import matplotlib.pyplot as plt\n"
   ]
  },
  {
   "cell_type": "markdown",
   "id": "0fcaed9f",
   "metadata": {},
   "source": [
    "Load and preprocess the dataset (example using CIFAR-10)"
   ]
  },
  {
   "cell_type": "code",
   "execution_count": null,
   "id": "75854c2b",
   "metadata": {},
   "outputs": [],
   "source": [
    "def load_data():\n",
    "    (train_images, _), (test_images, _) = keras.datasets.cifar10.load_data()\n",
    "    train_images = (train_images.astype(np.float32) - 127.5) / 127.5  # Normalize to [-1, 1]\n",
    "    train_images = tf.image.resize(train_images, [256, 256])\n",
    "    return train_images\n"
   ]
  },
  {
   "cell_type": "markdown",
   "id": "7cc8aece",
   "metadata": {},
   "source": [
    "Build the generator model"
   ]
  },
  {
   "cell_type": "code",
   "execution_count": null,
   "id": "75933d7c",
   "metadata": {},
   "outputs": [],
   "source": [
    "def build_generator():\n",
    "    inputs = layers.Input(shape=(256, 256, 3))\n",
    "    x = layers.Conv2D(64, kernel_size=4, strides=2, padding='same', activation='relu')(inputs)\n",
    "    x = layers.Conv2D(128, kernel_size=4, strides=2, padding='same', activation='relu')(x)\n",
    "    x = layers.Conv2DTranspose(64, kernel_size=4, strides=2, padding='same', activation='relu')(x)\n",
    "    x = layers.Conv2DTranspose(3, kernel_size=4, strides=2, padding='same', activation='tanh')(x)\n",
    "    return keras.Model(inputs, x)\n"
   ]
  },
  {
   "cell_type": "markdown",
   "id": "c056d5ee",
   "metadata": {},
   "source": [
    "Build the discriminator model"
   ]
  },
  {
   "cell_type": "code",
   "execution_count": null,
   "id": "32032eba",
   "metadata": {},
   "outputs": [],
   "source": [
    "def build_discriminator():\n",
    "    inputs = layers.Input(shape=(256, 256, 6))\n",
    "    x = layers.Conv2D(64, kernel_size=4, strides=2, padding='same', activation='relu')(inputs)\n",
    "    x = layers.Conv2D(128, kernel_size=4, strides=2, padding='same', activation='relu')(x)\n",
    "    x = layers.Flatten()(x)\n",
    "    x = layers.Dense(1, activation='sigmoid')(x)\n",
    "    return keras.Model(inputs, x)\n"
   ]
  },
  {
   "cell_type": "markdown",
   "id": "c835da4f",
   "metadata": {},
   "source": [
    "Instantiate models"
   ]
  },
  {
   "cell_type": "code",
   "execution_count": null,
   "id": "283a5eb9",
   "metadata": {},
   "outputs": [],
   "source": [
    "generator = build_generator()\n",
    "discriminator = build_discriminator()\n"
   ]
  },
  {
   "cell_type": "markdown",
   "id": "4f6bc504",
   "metadata": {},
   "source": [
    "Compile the discriminator"
   ]
  },
  {
   "cell_type": "code",
   "execution_count": null,
   "id": "aa910216",
   "metadata": {},
   "outputs": [],
   "source": [
    "discriminator.compile(loss='binary_crossentropy', optimizer='adam', metrics=['accuracy'])\n"
   ]
  },
  {
   "cell_type": "markdown",
   "id": "c61a1ad6",
   "metadata": {},
   "source": [
    "Define the pix2pix model"
   ]
  },
  {
   "cell_type": "code",
   "execution_count": null,
   "id": "c2ea4b58",
   "metadata": {},
   "outputs": [],
   "source": [
    "class Pix2Pix(keras.Model):\n",
    "    def __init__(self, generator, discriminator):\n",
    "        super(Pix2Pix, self).__init__()\n",
    "        self.generator = generator\n",
    "        self.discriminator = discriminator\n",
    "\n",
    "    def call(self, inputs):\n",
    "        generated_image = self.generator(inputs[0])\n",
    "        combined_input = tf.concat([inputs[0], generated_image], axis=-1)\n",
    "        validity = self.discriminator(combined_input)\n",
    "        return generated_image, validity\n",
    "\n",
    "pix2pix_model = Pix2Pix(generator, discriminator)\n"
   ]
  },
  {
   "cell_type": "markdown",
   "id": "cd0ef050",
   "metadata": {},
   "source": [
    "Prepare dataset"
   ]
  },
  {
   "cell_type": "code",
   "execution_count": null,
   "id": "2dd4e3f1",
   "metadata": {},
   "outputs": [],
   "source": [
    "def prepare_dataset(images, batch_size=32):\n",
    "    dataset = tf.data.Dataset.from_tensor_slices(images)\n",
    "    dataset = dataset.shuffle(buffer_size=1024).batch(batch_size)\n",
    "    return dataset\n"
   ]
  },
  {
   "cell_type": "markdown",
   "id": "2a7554bb",
   "metadata": {},
   "source": [
    "Define loss functions"
   ]
  },
  {
   "cell_type": "code",
   "execution_count": null,
   "id": "d623dc75",
   "metadata": {},
   "outputs": [],
   "source": [
    "def generator_loss(generated_image, target):\n",
    "    return tf.reduce_mean(tf.losses.mean_squared_error(target, generated_image))\n",
    "\n",
    "def discriminator_loss(real_validity, fake_validity):\n",
    "    return tf.reduce_mean(tf.losses.binary_crossentropy(tf.ones_like(real_validity), real_validity)) + \\\n",
    "           tf.reduce_mean(tf.losses.binary_crossentropy(tf.zeros_like(fake_validity), fake_validity))\n"
   ]
  },
  {
   "cell_type": "markdown",
   "id": "675bb3ee",
   "metadata": {},
   "source": [
    "Training function"
   ]
  },
  {
   "cell_type": "code",
   "execution_count": null,
   "id": "2d0bea58",
   "metadata": {},
   "outputs": [],
   "source": [
    "def train(dataset, epochs=100):\n",
    "    for epoch in range(epochs):\n",
    "        for real_images in dataset:\n",
    "            target_images = real_images  # Modify this for your dataset\n",
    "            with tf.GradientTape() as gen_tape, tf.GradientTape() as disc_tape:\n",
    "                generated_images = generator(real_images)\n",
    "                combined_input = tf.concat([real_images, generated_images], axis=-1)\n",
    "\n",
    "                real_validity = discriminator(combined_input)\n",
    "                fake_validity = discriminator(tf.concat([real_images, target_images], axis=-1))\n",
    "\n",
    "                gen_loss = generator_loss(generated_images, target_images)\n",
    "                disc_loss = discriminator_loss(real_validity, fake_validity)\n",
    "\n",
    "            gradients_of_generator = gen_tape.gradient(gen_loss, generator.trainable_variables)\n",
    "            gradients_of_discriminator = disc_tape.gradient(disc_loss, discriminator.trainable_variables)\n",
    "\n",
    "            generator.optimizer.apply_gradients(zip(gradients_of_generator, generator.trainable_variables))\n",
    "            discriminator.optimizer.apply_gradients(zip(gradients_of_discriminator, discriminator.trainable_variables))\n",
    "\n",
    "        print(f'Epoch {epoch + 1}/{epochs} completed.')\n"
   ]
  },
  {
   "cell_type": "markdown",
   "id": "14030176",
   "metadata": {},
   "source": [
    "Visualize results"
   ]
  },
  {
   "cell_type": "code",
   "execution_count": null,
   "id": "8858a46a",
   "metadata": {},
   "outputs": [],
   "source": [
    "def generate_images(model, test_input):\n",
    "    prediction = model(test_input)\n",
    "    plt.figure(figsize=(12, 12))\n",
    "    display_list = [test_input[0], prediction[0]]\n",
    "    title = ['Input Image', 'Generated Image']\n",
    "\n",
    "    for i in range(2):\n",
    "        plt.subplot(1, 2, i + 1)\n",
    "        plt.title(title[i])\n",
    "        plt.imshow(display_list[i] * 0.5 + 0.5)  # Rescale for visualization\n",
    "        plt.axis('off')\n",
    "    plt.show()\n"
   ]
  },
  {
   "cell_type": "markdown",
   "id": "54a2b88c",
   "metadata": {},
   "source": [
    "Main execution"
   ]
  },
  {
   "cell_type": "code",
   "execution_count": null,
   "id": "98044d3a",
   "metadata": {},
   "outputs": [],
   "source": [
    "if __name__ == \"__main__\":\n",
    "    train_images = load_data()\n",
    "    dataset = prepare_dataset(train_images)\n"
   ]
  },
  {
   "cell_type": "markdown",
   "id": "0d20dba6",
   "metadata": {},
   "source": [
    "# Train the model"
   ]
  },
  {
   "cell_type": "code",
   "execution_count": null,
   "id": "1ee13f3a",
   "metadata": {},
   "outputs": [],
   "source": [
    "    train(dataset, epochs=50)\n"
   ]
  },
  {
   "cell_type": "markdown",
   "id": "83bde9b8",
   "metadata": {},
   "source": [
    "# Test the model and visualize results"
   ]
  },
  {
   "cell_type": "code",
   "execution_count": null,
   "id": "2141713c",
   "metadata": {},
   "outputs": [],
   "source": [
    "    test_input = train_images[:1]  # Use first image as an example\n",
    "    generate_images(generator, test_input)\n"
   ]
  },
  {
   "cell_type": "markdown",
   "id": "2296c9dc",
   "metadata": {},
   "source": [
    "Created with ❤️ by Khwahish Kushwah"
   ]
  }
 ],
 "metadata": {
  "language_info": {
   "name": "python"
  }
 },
 "nbformat": 4,
 "nbformat_minor": 5
}
