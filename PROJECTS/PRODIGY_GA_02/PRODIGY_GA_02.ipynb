{
  "cells": [
    {
      "cell_type": "markdown",
      "metadata": {
        "id": "XXClj48Oe9I-"
      },
      "source": [
        "# Images as Grids of Pixels"
      ]
    },
    {
      "cell_type": "markdown",
      "metadata": {
        "id": "XQkv-BEZe9JA"
      },
      "source": [
        "### Importing libraries"
      ]
    },
    {
      "cell_type": "code",
      "execution_count": null,
      "metadata": {
        "id": "vMarnySbe9JA"
      },
      "outputs": [],
      "source": [
        "!pip install opencv-python"
      ]
    },
    {
      "cell_type": "code",
      "execution_count": null,
      "metadata": {
        "id": "PnwgL4SQe9JB"
      },
      "outputs": [],
      "source": [
        "import numpy as np\n",
        "\n",
        "# for reading in images\n",
        "import matplotlib.image as mpimg\n",
        "\n",
        "import matplotlib.pyplot as plt\n",
        "\n",
        "# computer vision library for data manipulation in images\n",
        "import cv2\n",
        "\n",
        "%matplotlib inline"
      ]
    },
    {
      "cell_type": "markdown",
      "metadata": {
        "id": "Kq3yhOwKe9JB"
      },
      "source": [
        "### Reading and displaying the images"
      ]
    },
    {
      "cell_type": "code",
      "execution_count": null,
      "metadata": {
        "colab": {
          "base_uri": "https://localhost:8080/"
        },
        "id": "jvGXphVee9JB",
        "outputId": "8d3b08aa-08f9-4fde-e213-fee1b288f368"
      },
      "outputs": [],
      "source": [
        "# Read in the image\n",
        "image = mpimg.imread('lenna.png')\n",
        "\n",
        "# Print out the image dimensions\n",
        "print('Image dimensions:', image.shape)"
      ]
    },
    {
      "cell_type": "code",
      "execution_count": null,
      "metadata": {
        "colab": {
          "base_uri": "https://localhost:8080/",
          "height": 435
        },
        "id": "GtNxuhdBe9JC",
        "outputId": "fcba9710-b9df-4a5a-b598-a5d85c6b009e"
      },
      "outputs": [],
      "source": [
        "# To see the image \n",
        "plt.imshow(image);"
      ]
    },
    {
      "cell_type": "code",
      "execution_count": null,
      "metadata": {
        "colab": {
          "base_uri": "https://localhost:8080/"
        },
        "id": "yPP-3bb6e9JC",
        "outputId": "c4dbf4bb-05b6-4e03-ac83-b720235bef3e"
      },
      "outputs": [],
      "source": [
        "# The image is stored as numbers in a 3D numpy array\n",
        "image[:, :, 0]"
      ]
    },
    {
      "cell_type": "code",
      "execution_count": null,
      "metadata": {
        "colab": {
          "base_uri": "https://localhost:8080/"
        },
        "id": "LQ0jdOc_XT3S",
        "outputId": "4fb0a363-c22a-41b1-f32d-fd86c92454d0"
      },
      "outputs": [],
      "source": [
        "# Get the pixel value at row 100, column 200 in the first channel\n",
        "pixel_value = image[100, 200, 0]\n",
        "pixel_value"
      ]
    },
    {
      "cell_type": "markdown",
      "metadata": {
        "id": "WwbaB1S9e9JC"
      },
      "source": [
        "## Lets see each channel"
      ]
    },
    {
      "cell_type": "code",
      "execution_count": null,
      "metadata": {
        "colab": {
          "base_uri": "https://localhost:8080/",
          "height": 435
        },
        "id": "ko-dIRSWe9JC",
        "outputId": "934f67a0-79cf-4394-ca5c-384f8b6228fb"
      },
      "outputs": [],
      "source": [
        "# 0 is red channel\n",
        "red_channel = image[:, :, 0]\n",
        "plt.imshow(red_channel);"
      ]
    },
    {
      "cell_type": "code",
      "execution_count": null,
      "metadata": {
        "colab": {
          "base_uri": "https://localhost:8080/",
          "height": 435
        },
        "id": "CRw2ydOge9JD",
        "outputId": "12022452-e432-4f1f-e946-b67de3688168"
      },
      "outputs": [],
      "source": [
        "# 1 is green channel\n",
        "green_channel = image[:, :, 1]\n",
        "plt.imshow(green_channel);"
      ]
    },
    {
      "cell_type": "code",
      "execution_count": null,
      "metadata": {
        "colab": {
          "base_uri": "https://localhost:8080/",
          "height": 435
        },
        "id": "C0dMg54-e9JD",
        "outputId": "2d432d89-5984-4627-9955-1090fc73f537"
      },
      "outputs": [],
      "source": [
        "# 2 is blue channel\n",
        "blue_channel = image[:, :, 2]\n",
        "plt.imshow(blue_channel);"
      ]
    },
    {
      "cell_type": "code",
      "execution_count": null,
      "metadata": {
        "colab": {
          "base_uri": "https://localhost:8080/",
          "height": 435
        },
        "id": "cjtn2C04hukt",
        "outputId": "0b38144c-1fec-4ae6-a250-1d2b7674028d"
      },
      "outputs": [],
      "source": [
        "# 2 is transparency channel\n",
        "transparent_channel = image[:, :, 2]\n",
        "plt.imshow(transparent_channel);"
      ]
    },
    {
      "cell_type": "markdown",
      "metadata": {
        "id": "rOlRxKXSe9JD"
      },
      "source": []
    },
    {
      "cell_type": "markdown",
      "metadata": {
        "id": "AE8HygEie9JD"
      },
      "source": [
        "## Image pre-processing"
      ]
    },
    {
      "cell_type": "code",
      "execution_count": null,
      "metadata": {
        "colab": {
          "base_uri": "https://localhost:8080/",
          "height": 452
        },
        "id": "VCrB8KToe9JD",
        "outputId": "2e864434-e45a-42ee-aca3-5aef8b524199"
      },
      "outputs": [],
      "source": [
        "# Read in the image\n",
        "#image = mpimg.imread('seven.png')\n",
        "#image = mpimg.imread('lenna.png')\n",
        "image = mpimg.imread('astronaut.png')\n",
        "\n",
        "# Print out the image dimensions\n",
        "print('Original Image dimensions:', image.shape)\n",
        "\n",
        "plt.imshow(image);"
      ]
    },
    {
      "cell_type": "markdown",
      "metadata": {
        "id": "ilI3p0LCe9JD"
      },
      "source": [
        "#### Convert color image to gray scale - This helps in dimentionality reduction"
      ]
    },
    {
      "cell_type": "code",
      "execution_count": null,
      "metadata": {
        "colab": {
          "base_uri": "https://localhost:8080/",
          "height": 452
        },
        "id": "jN9p2qzKe9JD",
        "outputId": "ed04679b-cc81-4a42-97df-b45740246b3c"
      },
      "outputs": [],
      "source": [
        "# Change from color to grayscale\n",
        "gray_image = cv2.cvtColor(image, cv2.COLOR_RGB2GRAY)\n",
        "plt.imshow(gray_image, cmap='gray');\n",
        "\n",
        "print('Grayscale Image dimensions:', gray_image.shape)"
      ]
    },
    {
      "cell_type": "code",
      "execution_count": null,
      "metadata": {
        "colab": {
          "base_uri": "https://localhost:8080/"
        },
        "id": "gWwWtni9e9JE",
        "outputId": "9241feb1-4033-464e-dbf2-97ce006e8f72"
      },
      "outputs": [],
      "source": [
        "gray_image.shape"
      ]
    },
    {
      "cell_type": "code",
      "execution_count": null,
      "metadata": {
        "colab": {
          "base_uri": "https://localhost:8080/"
        },
        "id": "DbtxZ7Obe9JE",
        "outputId": "2572c073-df2f-4073-991d-649cd9a47ef7"
      },
      "outputs": [],
      "source": [
        "# Finds the maximum and minimum grayscale values in this image\n",
        "\n",
        "max_val = np.amax(gray_image)\n",
        "min_val = np.amin(gray_image)\n",
        "\n",
        "print('Max: ', max_val)\n",
        "print('Min: ', min_val)"
      ]
    },
    {
      "cell_type": "code",
      "execution_count": null,
      "metadata": {
        "colab": {
          "base_uri": "https://localhost:8080/"
        },
        "id": "9Bbpgceie9JE",
        "outputId": "f9a3bf51-e3d1-471e-8fdc-981d3b3f383c"
      },
      "outputs": [],
      "source": [
        "# Prints specific grayscale pixel values\n",
        "# What is the pixel value at x = 400 and y = 300\n",
        "\n",
        "x = 300\n",
        "y = 300\n",
        "\n",
        "print(gray_image[y,x])"
      ]
    },
    {
      "cell_type": "code",
      "execution_count": null,
      "metadata": {
        "colab": {
          "base_uri": "https://localhost:8080/",
          "height": 447
        },
        "id": "Bfjj7MK1e9JE",
        "outputId": "0ce94670-b49f-4b45-e496-c041b8ad8b7a"
      },
      "outputs": [],
      "source": [
        "# Creating a 5x5 image using just grayscale, numerical values\n",
        "tiny_image = np.array([[0, 20, 30, 150, 120],\n",
        "                      [200, 200, 250, 70, 3],\n",
        "                      [50, 180, 85, 40, 90],\n",
        "                      [240, 100, 50, 255, 10],\n",
        "                      [30, 0, 75, 190, 220]])\n",
        "\n",
        "# To show the pixel grid, use matshow\n",
        "plt.imshow(tiny_image, cmap='gray')"
      ]
    },
    {
      "cell_type": "code",
      "execution_count": null,
      "metadata": {
        "colab": {
          "base_uri": "https://localhost:8080/",
          "height": 447
        },
        "id": "2OmOe305jZXt",
        "outputId": "407b3ab2-f11a-424e-beab-d10af11d7b00"
      },
      "outputs": [],
      "source": [
        "# Reduce the size of the image (Image downscaling)\n",
        "\n",
        "resized_image = cv2.resize(gray_image, (28, 28))\n",
        "\n",
        "# Display the grayscale image\n",
        "plt.imshow(resized_image, cmap='gray')\n"
      ]
    },
    {
      "cell_type": "code",
      "execution_count": null,
      "metadata": {
        "colab": {
          "base_uri": "https://localhost:8080/"
        },
        "id": "-gucXsR2lW0S",
        "outputId": "5cc89136-6c8e-499b-b821-44a03551c719"
      },
      "outputs": [],
      "source": [
        "# Finds the maximum and minimum grayscale values in this image\n",
        "\n",
        "max_val = np.amax(resized_image)\n",
        "min_val = np.amin(resized_image)\n",
        "\n",
        "print('Max: ', max_val)\n",
        "print('Min: ', min_val)"
      ]
    },
    {
      "cell_type": "code",
      "execution_count": null,
      "metadata": {
        "colab": {
          "base_uri": "https://localhost:8080/"
        },
        "id": "rsnPwmSnlr0J",
        "outputId": "9d7a9d73-cffc-45e6-832d-fc5d3d2c04de"
      },
      "outputs": [],
      "source": [
        "resized_image.shape"
      ]
    },
    {
      "cell_type": "markdown",
      "metadata": {},
      "source": [
        "Created with ❤️ by Khwahish Kushwah"
      ]
    }
  ],
  "metadata": {
    "anaconda-cloud": {},
    "colab": {
      "provenance": []
    },
    "kernelspec": {
      "display_name": "Python 3",
      "language": "python",
      "name": "python3"
    },
    "language_info": {
      "codemirror_mode": {
        "name": "ipython",
        "version": 3
      },
      "file_extension": ".py",
      "mimetype": "text/x-python",
      "name": "python",
      "nbconvert_exporter": "python",
      "pygments_lexer": "ipython3",
      "version": "3.8.10"
    }
  },
  "nbformat": 4,
  "nbformat_minor": 1
}
